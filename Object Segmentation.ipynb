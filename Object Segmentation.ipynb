{
 "cells": [
  {
   "cell_type": "code",
   "execution_count": 1,
   "id": "98948528",
   "metadata": {},
   "outputs": [],
   "source": [
    "import numpy as np\n",
    "import matplotlib.pyplot as plt\n",
    "import networkx as nx\n",
    "from sklearn.feature_extraction import image\n",
    "from PIL import Image"
   ]
  },
  {
   "cell_type": "code",
   "execution_count": 2,
   "id": "8f0f2cd1",
   "metadata": {},
   "outputs": [],
   "source": [
    "def neighbors(img):\n",
    "\n",
    "    right = np.vstack([img[:,:-1].ravel(), img[:,1:].ravel()])\n",
    "    below = np.vstack([img[:-1,:].ravel(), img[1:,:].ravel()])\n",
    "    neighbors = np.unique(np.hstack([right, below]), axis=1)\n",
    "\n",
    "    return neighbors"
   ]
  },
  {
   "cell_type": "code",
   "execution_count": 9,
   "id": "0c18355f",
   "metadata": {},
   "outputs": [],
   "source": [
    "def neighbors(img):\n",
    "\n",
    "    right = np.vstack([img[:,:-1].ravel(), img[:,1:].ravel()])\n",
    "    below = np.vstack([img[:-1,:].ravel(), img[1:,:].ravel()])\n",
    "    neighbors = np.unique(np.hstack([right, below]), axis=1)\n",
    "\n",
    "    return neighbors\n",
    "\n",
    "def create_nxGraph(img):\n",
    "    m,n = img.shape\n",
    "    sigma = 3\n",
    "    img_num = (np.arange(m*n).reshape(m,n))\n",
    "    adj = neighbors(img_num)\n",
    "    \n",
    "    G = nx.Graph()\n",
    "    G.add_nodes_from(np.arange(m*n))\n",
    "    \n",
    "    I = img.flatten()[adj[1]] - img.flatten()[adj[0]]\n",
    "    weights = np.exp(-(np.abs(I))**2)\n",
    "    weights = weights/(2*sigma**2)\n",
    "    \n",
    "    edges = zip(adj[0,:], adj[1,:], weights)\n",
    "    G.add_weighted_edges_from(edges)\n",
    "    nx.set_node_attributes(G, img.flatten(), \"intensity\")\n",
    "    \n",
    "    bool_img = img.astype(bool)\n",
    "    mask = img_num[bool_img]\n",
    "    \n",
    "    return G.subgraph(mask)"
   ]
  },
  {
   "cell_type": "code",
   "execution_count": 12,
   "id": "770757b7",
   "metadata": {
    "scrolled": false
   },
   "outputs": [
    {
     "name": "stderr",
     "output_type": "stream",
     "text": [
      "/home/hiroshi/.pyenv/versions/python-3.7.9/lib/python3.7/site-packages/sklearn/manifold/_spectral_embedding.py:261: UserWarning: Graph is not fully connected, spectral embedding may not work as expected.\n",
      "  \"Graph is not fully connected, spectral embedding may not work as expected.\"\n"
     ]
    },
    {
     "data": {
      "image/png": "[encoded data removed]",
      "text/plain": [
       "<Figure size 720x360 with 2 Axes>"
      ]
     },
     "metadata": {
      "needs_background": "light"
     },
     "output_type": "display_data"
    }
   ],
   "source": [
    "from sklearn.cluster import spectral_clustering\n",
    "import matplotlib.pyplot as plt\n",
    "\n",
    "img = Image.open('/home/hiroshi/2022-1/calcnum/spiral.png')\n",
    "img = img.convert('L')#converte para grayscale\n",
    "img = np.asarray(img)#converte para array\n",
    "\n",
    "G = create_nxGraph(img)#cria o grafo\n",
    "A = nx.to_numpy_array(G)#retorna a matriz de ajacencia\n",
    "A = np.nan_to_num(A)#substitui infinitos\n",
    "\n",
    "mask = img.astype(bool)#consideramos apenas os objetos\n",
    "labels = spectral_clustering(A, n_clusters=3, eigen_solver=\"arpack\")\n",
    "label_im = np.full(mask.shape, -1.0)\n",
    "label_im[mask] = labels\n",
    "\n",
    "fig, axs = plt.subplots(nrows=1, ncols=2, figsize=(10, 5))\n",
    "axs[0].imshow(img, 'gray')\n",
    "axs[1].imshow(label_im)\n",
    "\n",
    "plt.show()"
   ]
  }
 ],
 "metadata": {
  "kernelspec": {
   "display_name": "Python 3.7.9",
   "language": "python",
   "name": "python3.7.9"
  },
  "language_info": {
   "codemirror_mode": {
    "name": "ipython",
    "version": 3
   },
   "file_extension": ".py",
   "mimetype": "text/x-python",
   "name": "python",
   "nbconvert_exporter": "python",
   "pygments_lexer": "ipython3",
   "version": "3.7.9"
  }
 },
 "nbformat": 4,
 "nbformat_minor": 5
}
